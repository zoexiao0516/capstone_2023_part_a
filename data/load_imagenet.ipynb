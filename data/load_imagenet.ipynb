{
 "cells": [
  {
   "cell_type": "code",
   "execution_count": 7,
   "id": "e9dcb047-de7e-4630-b06c-9d6b006675c0",
   "metadata": {},
   "outputs": [],
   "source": [
    "import os\n",
    "import numpy as np\n",
    "import matplotlib.pyplot as plt\n",
    "import seaborn as sns\n",
    "import json\n",
    "import random\n",
    "from PIL import Image\n",
    "from scipy import stats"
   ]
  },
  {
   "cell_type": "code",
   "execution_count": 2,
   "id": "110ba8cb-0456-40fb-8eae-b867d4ac7436",
   "metadata": {},
   "outputs": [],
   "source": [
    "# Load the class index file\n",
    "with open('/Users/zoexiao/Documents/GitHub /capstone_2023_part_a/data/imagenet_class_index.json', 'r') as f:\n",
    "    class_idx = json.load(f)"
   ]
  },
  {
   "cell_type": "code",
   "execution_count": 3,
   "id": "f6089dbe-9e1c-47ce-9209-84d67a70efa5",
   "metadata": {},
   "outputs": [],
   "source": [
    "# Creat a dict mapping index to label\n",
    "idx2label = {class_idx[str(k)][0]:class_idx[str(k)][1] for k in range(len(class_idx))}\n",
    "\n",
    "# Creat a dict mapping label to index\n",
    "label2idx = {class_idx[str(k)][1]:class_idx[str(k)][0] for k in range(len(class_idx))}"
   ]
  },
  {
   "cell_type": "code",
   "execution_count": 10,
   "id": "8d20155f-d189-4a8f-a011-3e444d857d6e",
   "metadata": {},
   "outputs": [],
   "source": [
    "# Get all category names(labels)\n",
    "def getAllNames():\n",
    "    allClassNames = []\n",
    "    for key in idx2label:\n",
    "        name = idx2label[key]\n",
    "        # print(name)\n",
    "        allClassNames.append(name)\n",
    "    return allClassNames\n",
    "\n",
    "allClassNames = getAllNames()"
   ]
  },
  {
   "cell_type": "code",
   "execution_count": 13,
   "id": "475d313e-3b5e-4c65-abdc-c65affdc0b2f",
   "metadata": {},
   "outputs": [],
   "source": [
    "# Get random classes\n",
    "def randomSample(labels, seed, n):\n",
    "    random.seed(seed)\n",
    "    result = random.sample(labels, n)\n",
    "    return result\n",
    "\n",
    "random50 = randomSample(allClassNames, 3108, 50)"
   ]
  },
  {
   "cell_type": "code",
   "execution_count": 15,
   "id": "7b4aa69e-35c9-4c83-bd35-6866f13596d7",
   "metadata": {},
   "outputs": [],
   "source": [
    "# Get class indexes\n",
    "def getIndex(labels):\n",
    "    idxList = []\n",
    "    for each in labels:\n",
    "        classIdx = label2idx[each]\n",
    "        idxList.append(classIdx)\n",
    "    return idxList\n",
    "\n",
    "random50_idx = getIndex(random50)"
   ]
  },
  {
   "cell_type": "code",
   "execution_count": null,
   "id": "b836bcac-3e96-4f8b-b190-7e723af8630f",
   "metadata": {},
   "outputs": [],
   "source": []
  }
 ],
 "metadata": {
  "kernelspec": {
   "display_name": "Python 3 (ipykernel)",
   "language": "python",
   "name": "python3"
  },
  "language_info": {
   "codemirror_mode": {
    "name": "ipython",
    "version": 3
   },
   "file_extension": ".py",
   "mimetype": "text/x-python",
   "name": "python",
   "nbconvert_exporter": "python",
   "pygments_lexer": "ipython3",
   "version": "3.10.11"
  }
 },
 "nbformat": 4,
 "nbformat_minor": 5
}
