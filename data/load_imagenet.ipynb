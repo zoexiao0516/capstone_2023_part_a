{
 "cells": [
  {
   "cell_type": "code",
   "execution_count": 1,
   "id": "e9dcb047-de7e-4630-b06c-9d6b006675c0",
   "metadata": {},
   "outputs": [],
   "source": [
    "import os\n",
    "import numpy as np\n",
    "import matplotlib.pyplot as plt\n",
    "import seaborn as sns\n",
    "import json\n",
    "import random\n",
    "from PIL import Image\n",
    "from scipy import stats"
   ]
  },
  {
   "cell_type": "code",
   "execution_count": 2,
   "id": "110ba8cb-0456-40fb-8eae-b867d4ac7436",
   "metadata": {},
   "outputs": [],
   "source": [
    "# Load the class index file\n",
    "with open('/Users/zoexiao/Documents/GitHub/capstone_2023_part_a/data/imagenet_class_index.json', 'r') as f:\n",
    "    class_idx = json.load(f)"
   ]
  },
  {
   "cell_type": "code",
   "execution_count": 3,
   "id": "f6089dbe-9e1c-47ce-9209-84d67a70efa5",
   "metadata": {},
   "outputs": [],
   "source": [
    "# Creat a dict mapping WNID to class label\n",
    "id2class = {class_idx[str(k)][0]:class_idx[str(k)][1] for k in range(len(class_idx))}\n",
    "\n",
    "# Creat a dict mapping label to index\n",
    "class2id = {class_idx[str(k)][1]:class_idx[str(k)][0] for k in range(len(class_idx))}"
   ]
  },
  {
   "cell_type": "code",
   "execution_count": 4,
   "id": "8d20155f-d189-4a8f-a011-3e444d857d6e",
   "metadata": {},
   "outputs": [],
   "source": [
    "# Get all class\n",
    "def getAllNames():\n",
    "    allClassNames = []\n",
    "    for key in id2class:\n",
    "        name = id2class[key]\n",
    "        # print(name)\n",
    "        allClassNames.append(name)\n",
    "    return allClassNames\n",
    "\n",
    "allClassNames = getAllNames()"
   ]
  },
  {
   "cell_type": "code",
   "execution_count": 5,
   "id": "475d313e-3b5e-4c65-abdc-c65affdc0b2f",
   "metadata": {},
   "outputs": [],
   "source": [
    "# Get random class\n",
    "def randomSample(labels, seed, n):\n",
    "    random.seed(seed)\n",
    "    result = random.sample(labels, n)\n",
    "    return result\n",
    "\n",
    "random50 = randomSample(allClassNames, 3108, 50)"
   ]
  },
  {
   "cell_type": "code",
   "execution_count": 6,
   "id": "7b4aa69e-35c9-4c83-bd35-6866f13596d7",
   "metadata": {},
   "outputs": [],
   "source": [
    "# Get random class WNID\n",
    "def getId(labels):\n",
    "    idList = []\n",
    "    for each in labels:\n",
    "        classId = class2id[each]\n",
    "        idList.append(classId)\n",
    "    return idList\n",
    "\n",
    "random50_id = getId(random50)"
   ]
  },
  {
   "cell_type": "code",
   "execution_count": 7,
   "id": "08c32b97-cf24-4d17-ab01-01ad1e076d97",
   "metadata": {},
   "outputs": [
    {
     "data": {
      "text/plain": [
       "['n02504458',\n",
       " 'n02256656',\n",
       " 'n02951358',\n",
       " 'n03832673',\n",
       " 'n02109525',\n",
       " 'n02124075',\n",
       " 'n07565083',\n",
       " 'n03794056',\n",
       " 'n13052670',\n",
       " 'n03045698',\n",
       " 'n03481172',\n",
       " 'n03376595',\n",
       " 'n04067472',\n",
       " 'n02999410',\n",
       " 'n03843555',\n",
       " 'n02027492',\n",
       " 'n03146219',\n",
       " 'n03888605',\n",
       " 'n02093859',\n",
       " 'n03062245',\n",
       " 'n02090622',\n",
       " 'n03602883',\n",
       " 'n04584207',\n",
       " 'n04479046',\n",
       " 'n01883070',\n",
       " 'n04275548',\n",
       " 'n04252225',\n",
       " 'n02328150',\n",
       " 'n02105056',\n",
       " 'n02107683',\n",
       " 'n03662601',\n",
       " 'n04417672',\n",
       " 'n02091134',\n",
       " 'n04228054',\n",
       " 'n03710721',\n",
       " 'n02342885',\n",
       " 'n03141823',\n",
       " 'n02281787',\n",
       " 'n04136333',\n",
       " 'n03891251',\n",
       " 'n02488291',\n",
       " 'n02107574',\n",
       " 'n01608432',\n",
       " 'n02088632',\n",
       " 'n02992529',\n",
       " 'n04536866',\n",
       " 'n02169497',\n",
       " 'n02423022',\n",
       " 'n03467068',\n",
       " 'n03742115']"
      ]
     },
     "execution_count": 7,
     "metadata": {},
     "output_type": "execute_result"
    }
   ],
   "source": [
    "random50_id"
   ]
  },
  {
   "cell_type": "code",
   "execution_count": 8,
   "id": "b836bcac-3e96-4f8b-b190-7e723af8630f",
   "metadata": {},
   "outputs": [],
   "source": [
    "import torch\n",
    "import torchvision.transforms as transforms\n",
    "from torchvision.datasets import ImageNet\n",
    "from torch.utils.data import DataLoader"
   ]
  },
  {
   "cell_type": "code",
   "execution_count": 9,
   "id": "1caeb68b-d422-43f9-a55b-5f24234bf7d6",
   "metadata": {},
   "outputs": [],
   "source": [
    "# Set the data directory\n",
    "data_dir = '/Users/zoexiao/Documents/GitHub/capstone_2023_part_a/data'"
   ]
  },
  {
   "cell_type": "code",
   "execution_count": null,
   "id": "5052ec35-c792-4039-8787-5f833824c286",
   "metadata": {},
   "outputs": [],
   "source": []
  }
 ],
 "metadata": {
  "kernelspec": {
   "display_name": "Python 3 (ipykernel)",
   "language": "python",
   "name": "python3"
  },
  "language_info": {
   "codemirror_mode": {
    "name": "ipython",
    "version": 3
   },
   "file_extension": ".py",
   "mimetype": "text/x-python",
   "name": "python",
   "nbconvert_exporter": "python",
   "pygments_lexer": "ipython3",
   "version": "3.10.11"
  }
 },
 "nbformat": 4,
 "nbformat_minor": 5
}
