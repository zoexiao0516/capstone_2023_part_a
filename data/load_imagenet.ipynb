{
   "cells": [
      {
         "cell_type": "code",
         "execution_count": 1,
         "id": "e9dcb047-de7e-4630-b06c-9d6b006675c0",
         "metadata": {},
         "outputs": [],
         "source": [
            "import os\n",
            "import json\n",
            "import random"
         ]
      },
      {
         "cell_type": "code",
         "execution_count": 2,
         "id": "110ba8cb-0456-40fb-8eae-b867d4ac7436",
         "metadata": {},
         "outputs": [
            {
               "name": "stdout",
               "output_type": "stream",
               "text": [
                  "Class 954 of 999 classes is ['n07753592', 'banana']\n"
               ]
            }
         ],
         "source": [
            "# Load the class index file\n",
            "with open('/Users/shreemayi/Desktop/MSDS/CapStone/capstone_2023_part_a/data/imagenet_class_index.json', 'r') as f:\n",
            "    class_idx = json.load(f)\n",
            "print(\"Class 954 of 999 classes is\", class_idx['954'])"
         ]
      },
      {
         "cell_type": "code",
         "execution_count": 3,
         "id": "f6089dbe-9e1c-47ce-9209-84d67a70efa5",
         "metadata": {},
         "outputs": [
            {
               "name": "stdout",
               "output_type": "stream",
               "text": [
                  "Label of index n07753592 banana\n",
                  "Class id of label banana n07753592\n"
               ]
            }
         ],
         "source": [
            "# Creat a dict mapping WNID to class label\n",
            "id2class = {class_idx[str(k)][0]:class_idx[str(k)][1] for k in range(len(class_idx))}\n",
            "\n",
            "print(\"Label of index n07753592\", id2class['n07753592'])\n",
            "\n",
            "# Creat a dict mapping label to index\n",
            "class2id = {class_idx[str(k)][1]:class_idx[str(k)][0] for k in range(len(class_idx))}\n",
            "\n",
            "print(\"Class id of label banana\", class2id['banana'])"
         ]
      },
      {
         "cell_type": "code",
         "execution_count": 6,
         "id": "8d20155f-d189-4a8f-a011-3e444d857d6e",
         "metadata": {},
         "outputs": [
            {
               "name": "stdout",
               "output_type": "stream",
               "text": [
                  "First 5 class names ['tench', 'goldfish', 'great_white_shark', 'tiger_shark', 'hammerhead']\n"
               ]
            }
         ],
         "source": [
            "# Get all class\n",
            "def getAllNames():\n",
            "    allClassNames = []\n",
            "    for key in id2class:\n",
            "        name = id2class[key]\n",
            "        allClassNames.append(name)\n",
            "    return allClassNames\n",
            "\n",
            "allClassNames = getAllNames()\n",
            "print(\"First 5 class names\", allClassNames[:5])"
         ]
      },
      {
         "cell_type": "code",
         "execution_count": 7,
         "id": "475d313e-3b5e-4c65-abdc-c65affdc0b2f",
         "metadata": {},
         "outputs": [
            {
               "name": "stdout",
               "output_type": "stream",
               "text": [
                  "First five of random 50 classes ['African_elephant', 'cicada', 'canoe', 'notebook', 'Saint_Bernard']\n"
               ]
            }
         ],
         "source": [
            "# Get random class\n",
            "def randomSample(labels, seed, n):\n",
            "    random.seed(seed)\n",
            "    result = random.sample(labels, n)\n",
            "    return result\n",
            "\n",
            "random50 = randomSample(allClassNames, 3108, 50)\n",
            "print(\"First five of random 50 classes\", random50[:5])"
         ]
      },
      {
         "cell_type": "code",
         "execution_count": 6,
         "id": "97bc522f-fd85-44b2-ad4b-85c4f95b32f4",
         "metadata": {},
         "outputs": [
            {
               "data": {
                  "text/plain": [
                     "['African_elephant',\n",
                     " 'cicada',\n",
                     " 'canoe',\n",
                     " 'notebook',\n",
                     " 'Saint_Bernard',\n",
                     " 'Egyptian_cat',\n",
                     " 'menu',\n",
                     " 'mousetrap',\n",
                     " 'hen-of-the-woods',\n",
                     " 'cloak',\n",
                     " 'hammer',\n",
                     " 'folding_chair',\n",
                     " 'reel',\n",
                     " 'chain',\n",
                     " 'oil_filter',\n",
                     " 'red-backed_sandpiper',\n",
                     " 'cuirass',\n",
                     " 'parallel_bars',\n",
                     " 'Kerry_blue_terrier',\n",
                     " 'cocktail_shaker',\n",
                     " 'borzoi',\n",
                     " 'joystick',\n",
                     " 'wig',\n",
                     " 'trench_coat',\n",
                     " 'wombat',\n",
                     " 'spider_web',\n",
                     " 'snowplow',\n",
                     " 'Angora',\n",
                     " 'groenendael',\n",
                     " 'Bernese_mountain_dog',\n",
                     " 'lifeboat',\n",
                     " 'thatch',\n",
                     " 'whippet',\n",
                     " 'ski',\n",
                     " 'maillot',\n",
                     " 'hamster',\n",
                     " 'crutch',\n",
                     " 'lycaenid',\n",
                     " 'sarong',\n",
                     " 'park_bench',\n",
                     " 'langur',\n",
                     " 'Greater_Swiss_Mountain_dog',\n",
                     " 'kite',\n",
                     " 'bluetick',\n",
                     " 'cellular_telephone',\n",
                     " 'violin',\n",
                     " 'leaf_beetle',\n",
                     " 'gazelle',\n",
                     " 'guillotine',\n",
                     " 'medicine_chest']"
                  ]
               },
               "execution_count": 6,
               "metadata": {},
               "output_type": "execute_result"
            }
         ],
         "source": [
            "random50"
         ]
      },
      {
         "cell_type": "code",
         "execution_count": 7,
         "id": "7b4aa69e-35c9-4c83-bd35-6866f13596d7",
         "metadata": {},
         "outputs": [
            {
               "name": "stdout",
               "output_type": "stream",
               "text": [
                  "Corresponding IDs: ['n02504458', 'n02256656', 'n02951358', 'n03832673', 'n02109525']\n"
               ]
            }
         ],
         "source": [
            "# Get random class WNID\n",
            "def getId(labels):\n",
            "    idList = []\n",
            "    for each in labels:\n",
            "        classId = class2id[each]\n",
            "        idList.append(classId)\n",
            "    return idList\n",
            "\n",
            "random50_id = getId(random50)"
         ]
      },
      {
         "cell_type": "code",
         "execution_count": 8,
         "id": "08c32b97-cf24-4d17-ab01-01ad1e076d97",
         "metadata": {},
         "outputs": [
            {
               "data": {
                  "text/plain": [
                     "['n02504458',\n",
                     " 'n02256656',\n",
                     " 'n02951358',\n",
                     " 'n03832673',\n",
                     " 'n02109525',\n",
                     " 'n02124075',\n",
                     " 'n07565083',\n",
                     " 'n03794056',\n",
                     " 'n13052670',\n",
                     " 'n03045698',\n",
                     " 'n03481172',\n",
                     " 'n03376595',\n",
                     " 'n04067472',\n",
                     " 'n02999410',\n",
                     " 'n03843555',\n",
                     " 'n02027492',\n",
                     " 'n03146219',\n",
                     " 'n03888605',\n",
                     " 'n02093859',\n",
                     " 'n03062245',\n",
                     " 'n02090622',\n",
                     " 'n03602883',\n",
                     " 'n04584207',\n",
                     " 'n04479046',\n",
                     " 'n01883070',\n",
                     " 'n04275548',\n",
                     " 'n04252225',\n",
                     " 'n02328150',\n",
                     " 'n02105056',\n",
                     " 'n02107683',\n",
                     " 'n03662601',\n",
                     " 'n04417672',\n",
                     " 'n02091134',\n",
                     " 'n04228054',\n",
                     " 'n03710721',\n",
                     " 'n02342885',\n",
                     " 'n03141823',\n",
                     " 'n02281787',\n",
                     " 'n04136333',\n",
                     " 'n03891251',\n",
                     " 'n02488291',\n",
                     " 'n02107574',\n",
                     " 'n01608432',\n",
                     " 'n02088632',\n",
                     " 'n02992529',\n",
                     " 'n04536866',\n",
                     " 'n02169497',\n",
                     " 'n02423022',\n",
                     " 'n03467068',\n",
                     " 'n03742115']"
                  ]
               },
               "execution_count": 8,
               "metadata": {},
               "output_type": "execute_result"
            }
         ],
         "source": [
            "random50_id"
         ]
      },
      {
         "cell_type": "code",
         "execution_count": 9,
         "id": "b836bcac-3e96-4f8b-b190-7e723af8630f",
         "metadata": {},
         "outputs": [],
         "source": [
            "import torch\n",
            "import torchvision.transforms as transforms\n",
            "from torchvision.datasets import ImageNet\n",
            "from torch.utils.data import DataLoader"
         ]
      },
      {
         "cell_type": "code",
         "execution_count": 15,
         "id": "1caeb68b-d422-43f9-a55b-5f24234bf7d6",
         "metadata": {},
         "outputs": [],
         "source": [
            "# Set the data directory\n",
            "data_dir = '/Volumes/LaCie/imagenet1000'"
         ]
      },
      {
         "cell_type": "code",
         "execution_count": 11,
         "id": "5052ec35-c792-4039-8787-5f833824c286",
         "metadata": {},
         "outputs": [],
         "source": [
            "# Define data transforms for preprocessing (adjust as needed)\n",
            "data_transform = transforms.Compose([\n",
            "    transforms.Resize((256, 256)),  # Resize to 256x256 pixels\n",
            "    transforms.ToTensor(),          # Convert to tensor\n",
            "])"
         ]
      },
      {
         "cell_type": "code",
         "execution_count": 16,
         "id": "2bb2a881-4434-487f-9c0a-be64baf16a68",
         "metadata": {},
         "outputs": [],
         "source": [
            "ds = ImageNet(root=data_dir, split='train', transform=data_transform)"
         ]
      },
      {
         "cell_type": "code",
         "execution_count": 14,
         "id": "748fc520",
         "metadata": {},
         "outputs": [],
         "source": [
            "import os\n",
            "import shutil\n",
            "import random"
         ]
      },
      {
         "cell_type": "code",
         "execution_count": 17,
         "id": "a74b9e63",
         "metadata": {},
         "outputs": [],
         "source": [
            "# Define the directory where you want to create your custom subset\n",
            "custom_subset_root = '/Volumes/LaCie/imagenet1000'"
         ]
      },
      {
         "cell_type": "code",
         "execution_count": 25,
         "id": "ac15460d",
         "metadata": {},
         "outputs": [],
         "source": [
            "# Create a list of the 5 selected class names\n",
            "selected_classes = ['n02504458',\n",
            " 'n02256656',\n",
            " 'n02951358',\n",
            " 'n03832673',\n",
            " 'n02109525']\n",
            "\n",
            "# Define the number of images to keep (in this case, 5)\n",
            "num_images_to_keep = 5"
         ]
      },
      {
         "cell_type": "code",
         "execution_count": 26,
         "id": "ce3d1b27",
         "metadata": {},
         "outputs": [],
         "source": [
            "# Create the custom subset directory structure and get the first 5 images\n",
            "for class_name in selected_classes:\n",
            "    source_dir = os.path.join(data_dir, 'train', class_name)  # Assuming you're working with the training data\n",
            "    target_dir = os.path.join(custom_subset_root, class_name)\n",
            "    os.makedirs(target_dir, exist_ok=True)\n",
            "\n",
            "    # List all the image files in the source directory\n",
            "    image_files = os.listdir(source_dir)\n",
            "    \n",
            "    # Get the first 5 images and copy them to the target directory\n",
            "    for filename in image_files[:num_images_to_keep]:\n",
            "        source_file = os.path.join(source_dir, filename)\n",
            "        target_file = os.path.join(target_dir, filename)\n",
            "        shutil.copy(source_file, target_file)  # You can use shutil.move() to move the files if you prefer\n",
            "\n",
            "# Your custom subset with the first 5 images from each of the selected 50 classes is now ready"
         ]
      }
   ],
   "metadata": {
      "kernelspec": {
         "display_name": "Python 3 (ipykernel)",
         "language": "python",
         "name": "python3"
      },
      "language_info": {
         "codemirror_mode": {
            "name": "ipython",
            "version": 3
         },
         "file_extension": ".py",
         "mimetype": "text/x-python",
         "name": "python",
         "nbconvert_exporter": "python",
         "pygments_lexer": "ipython3",
         "version": "3.10.11"
      }
   },
   "nbformat": 4,
   "nbformat_minor": 5
}
