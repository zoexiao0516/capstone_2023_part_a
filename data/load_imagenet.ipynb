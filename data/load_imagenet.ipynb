{
 "cells": [
  {
   "cell_type": "code",
   "execution_count": 1,
   "id": "e9dcb047-de7e-4630-b06c-9d6b006675c0",
   "metadata": {},
   "outputs": [],
   "source": [
    "import os\n",
    "import json\n",
    "import random"
   ]
  },
  {
   "cell_type": "code",
   "execution_count": 2,
   "id": "110ba8cb-0456-40fb-8eae-b867d4ac7436",
   "metadata": {},
   "outputs": [
    {
     "name": "stdout",
     "output_type": "stream",
     "text": [
      "Class 954 of 999 classes is ['n07753592', 'banana']\n"
     ]
    }
   ],
   "source": [
    "# Load the class index file\n",
    "with open('/Users/shreemayi/Desktop/MSDS/CapStone/capstone_2023_part_a/data/imagenet_class_index.json', 'r') as f:\n",
    "    class_idx = json.load(f)\n",
    "print(\"Class 954 of 999 classes is\", class_idx['954'])"
   ]
  },
  {
   "cell_type": "code",
   "execution_count": 3,
   "id": "f6089dbe-9e1c-47ce-9209-84d67a70efa5",
   "metadata": {},
   "outputs": [
    {
     "name": "stdout",
     "output_type": "stream",
     "text": [
      "Label of index n07753592 banana\n",
      "Class id of label banana n07753592\n"
     ]
    }
   ],
   "source": [
    "# Creat a dict mapping WNID to class label\n",
    "id2class = {class_idx[str(k)][0]:class_idx[str(k)][1] for k in range(len(class_idx))}\n",
    "\n",
    "print(\"Label of index n07753592\", id2class['n07753592'])\n",
    "\n",
    "# Creat a dict mapping label to index\n",
    "class2id = {class_idx[str(k)][1]:class_idx[str(k)][0] for k in range(len(class_idx))}\n",
    "\n",
    "print(\"Class id of label banana\", class2id['banana'])"
   ]
  },
  {
   "cell_type": "code",
   "execution_count": 6,
   "id": "8d20155f-d189-4a8f-a011-3e444d857d6e",
   "metadata": {},
   "outputs": [
    {
     "name": "stdout",
     "output_type": "stream",
     "text": [
      "First 5 class names ['tench', 'goldfish', 'great_white_shark', 'tiger_shark', 'hammerhead']\n"
     ]
    }
   ],
   "source": [
    "# Get all class\n",
    "def getAllNames():\n",
    "    allClassNames = []\n",
    "    for key in id2class:\n",
    "        name = id2class[key]\n",
    "        allClassNames.append(name)\n",
    "    return allClassNames\n",
    "\n",
    "allClassNames = getAllNames()\n",
    "print(\"First 5 class names\", allClassNames[:5])"
   ]
  },
  {
   "cell_type": "code",
   "execution_count": 7,
   "id": "475d313e-3b5e-4c65-abdc-c65affdc0b2f",
   "metadata": {},
   "outputs": [
    {
     "name": "stdout",
     "output_type": "stream",
     "text": [
      "First five of random 50 classes ['African_elephant', 'cicada', 'canoe', 'notebook', 'Saint_Bernard']\n"
     ]
    }
   ],
   "source": [
    "# Get random class\n",
    "def randomSample(labels, seed, n):\n",
    "    random.seed(seed)\n",
    "    result = random.sample(labels, n)\n",
    "    return result\n",
    "\n",
    "random50 = randomSample(allClassNames, 3108, 50)\n",
    "print(\"First five of random 50 classes\", random50[:5])"
   ]
  },
  {
   "cell_type": "code",
   "execution_count": 8,
   "id": "7b4aa69e-35c9-4c83-bd35-6866f13596d7",
   "metadata": {},
   "outputs": [
    {
     "name": "stdout",
     "output_type": "stream",
     "text": [
      "Corresponding IDs: ['n02504458', 'n02256656', 'n02951358', 'n03832673', 'n02109525']\n"
     ]
    }
   ],
   "source": [
    "# Get random class WNID\n",
    "def getId(labels):\n",
    "    idList = []\n",
    "    for each in labels:\n",
    "        classId = class2id[each]\n",
    "        idList.append(classId)\n",
    "    return idList\n",
    "\n",
    "random50_id = getId(random50)\n",
    "print(\"Corresponding IDs:\", random50_id[:5])"
   ]
  },
  {
   "cell_type": "code",
   "execution_count": 8,
   "id": "b836bcac-3e96-4f8b-b190-7e723af8630f",
   "metadata": {},
   "outputs": [],
   "source": [
    "import torch\n",
    "import torchvision.transforms as transforms\n",
    "from torchvision.datasets import ImageNet\n",
    "from torch.utils.data import DataLoader"
   ]
  },
  {
   "cell_type": "code",
   "execution_count": 9,
   "id": "1caeb68b-d422-43f9-a55b-5f24234bf7d6",
   "metadata": {},
   "outputs": [],
   "source": [
    "# Set the data directory\n",
    "data_dir = '/Users/zoexiao/Documents/GitHub/capstone_2023_part_a/data'"
   ]
  },
  {
   "cell_type": "code",
   "execution_count": null,
   "id": "5052ec35-c792-4039-8787-5f833824c286",
   "metadata": {},
   "outputs": [],
   "source": []
  }
 ],
 "metadata": {
  "kernelspec": {
   "display_name": "Python 3 (ipykernel)",
   "language": "python",
   "name": "python3"
  },
  "language_info": {
   "codemirror_mode": {
    "name": "ipython",
    "version": 3
   },
   "file_extension": ".py",
   "mimetype": "text/x-python",
   "name": "python",
   "nbconvert_exporter": "python",
   "pygments_lexer": "ipython3",
   "version": "3.9.13"
  }
 },
 "nbformat": 4,
 "nbformat_minor": 5
}
